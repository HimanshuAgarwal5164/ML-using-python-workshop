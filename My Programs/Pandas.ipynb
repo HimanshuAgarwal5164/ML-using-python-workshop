{
 "cells": [
  {
   "cell_type": "code",
   "execution_count": 1,
   "metadata": {},
   "outputs": [],
   "source": [
    "import pandas as pd"
   ]
  },
  {
   "cell_type": "code",
   "execution_count": 2,
   "metadata": {},
   "outputs": [
    {
     "name": "stdout",
     "output_type": "stream",
     "text": [
      "       recency history_segment  history  mens  womens   zip_code  newbie  \\\n",
      "0           10  2) $100 - $200   142.44     1       0  Surburban       0   \n",
      "1            6  3) $200 - $350   329.08     1       1      Rural       1   \n",
      "2            7  2) $100 - $200   180.65     0       1  Surburban       1   \n",
      "3            9  5) $500 - $750   675.83     1       0      Rural       1   \n",
      "4            2    1) $0 - $100    45.34     1       0      Urban       0   \n",
      "...        ...             ...      ...   ...     ...        ...     ...   \n",
      "63995       10  2) $100 - $200   105.54     1       0      Urban       0   \n",
      "63996        5    1) $0 - $100    38.91     0       1      Urban       1   \n",
      "63997        6    1) $0 - $100    29.99     1       0      Urban       1   \n",
      "63998        1  5) $500 - $750   552.94     1       0  Surburban       1   \n",
      "63999        1  4) $350 - $500   472.82     0       1  Surburban       0   \n",
      "\n",
      "            channel        segment  visit  conversion  spend  DM_category  \n",
      "0             Phone  Womens E-Mail      0           0    0.0            4  \n",
      "1               Web      No E-Mail      0           0    0.0           11  \n",
      "2               Web  Womens E-Mail      0           0    0.0            1  \n",
      "3               Web    Mens E-Mail      0           0    0.0            2  \n",
      "4               Web  Womens E-Mail      0           0    0.0            4  \n",
      "...             ...            ...    ...         ...    ...          ...  \n",
      "63995           Web    Mens E-Mail      0           0    0.0            2  \n",
      "63996         Phone    Mens E-Mail      0           0    0.0            3  \n",
      "63997         Phone    Mens E-Mail      0           0    0.0            2  \n",
      "63998  Multichannel  Womens E-Mail      0           0    0.0            4  \n",
      "63999           Web    Mens E-Mail      0           0    0.0            3  \n",
      "\n",
      "[64000 rows x 13 columns]\n"
     ]
    }
   ],
   "source": [
    "data = pd.read_csv(r\"C:\\Users\\Himanshu Agarwal\\Desktop\\Python programs\\ML using Python Microsoft\\direct_marketing.csv\")\n",
    "print(data)"
   ]
  },
  {
   "cell_type": "code",
   "execution_count": 3,
   "metadata": {},
   "outputs": [
    {
     "name": "stdout",
     "output_type": "stream",
     "text": [
      "<class 'pandas.core.frame.DataFrame'>\n"
     ]
    }
   ],
   "source": [
    "print(type(data))"
   ]
  },
  {
   "cell_type": "code",
   "execution_count": 4,
   "metadata": {},
   "outputs": [
    {
     "name": "stdout",
     "output_type": "stream",
     "text": [
      "   recency history_segment  history  mens  womens   zip_code  newbie channel  \\\n",
      "0       10  2) $100 - $200   142.44     1       0  Surburban       0   Phone   \n",
      "1        6  3) $200 - $350   329.08     1       1      Rural       1     Web   \n",
      "2        7  2) $100 - $200   180.65     0       1  Surburban       1     Web   \n",
      "3        9  5) $500 - $750   675.83     1       0      Rural       1     Web   \n",
      "4        2    1) $0 - $100    45.34     1       0      Urban       0     Web   \n",
      "5        6  2) $100 - $200   134.83     0       1  Surburban       0   Phone   \n",
      "6        9  3) $200 - $350   280.20     1       0  Surburban       1   Phone   \n",
      "7        9    1) $0 - $100    46.42     0       1      Urban       0   Phone   \n",
      "8        9  5) $500 - $750   675.07     1       1      Rural       1   Phone   \n",
      "9       10    1) $0 - $100    32.84     0       1      Urban       1     Web   \n",
      "\n",
      "         segment  visit  conversion  spend  DM_category  \n",
      "0  Womens E-Mail      0           0    0.0            4  \n",
      "1      No E-Mail      0           0    0.0           11  \n",
      "2  Womens E-Mail      0           0    0.0            1  \n",
      "3    Mens E-Mail      0           0    0.0            2  \n",
      "4  Womens E-Mail      0           0    0.0            4  \n",
      "5  Womens E-Mail      1           0    0.0            1  \n",
      "6  Womens E-Mail      0           0    0.0            4  \n",
      "7  Womens E-Mail      0           0    0.0            1  \n",
      "8    Mens E-Mail      0           0    0.0            5  \n",
      "9  Womens E-Mail      0           0    0.0            1  \n"
     ]
    }
   ],
   "source": [
    "print(data.head(10))"
   ]
  },
  {
   "cell_type": "code",
   "execution_count": 5,
   "metadata": {},
   "outputs": [
    {
     "name": "stdout",
     "output_type": "stream",
     "text": [
      "   recency history_segment  history  mens  womens   zip_code  newbie channel  \\\n",
      "0       10  2) $100 - $200   142.44     1       0  Surburban       0   Phone   \n",
      "1        6  3) $200 - $350   329.08     1       1      Rural       1     Web   \n",
      "2        7  2) $100 - $200   180.65     0       1  Surburban       1     Web   \n",
      "3        9  5) $500 - $750   675.83     1       0      Rural       1     Web   \n",
      "4        2    1) $0 - $100    45.34     1       0      Urban       0     Web   \n",
      "\n",
      "         segment  visit  conversion  spend  DM_category  \n",
      "0  Womens E-Mail      0           0    0.0            4  \n",
      "1      No E-Mail      0           0    0.0           11  \n",
      "2  Womens E-Mail      0           0    0.0            1  \n",
      "3    Mens E-Mail      0           0    0.0            2  \n",
      "4  Womens E-Mail      0           0    0.0            4  \n"
     ]
    }
   ],
   "source": [
    "print(data.head())"
   ]
  },
  {
   "cell_type": "code",
   "execution_count": 6,
   "metadata": {},
   "outputs": [
    {
     "name": "stdout",
     "output_type": "stream",
     "text": [
      "       recency history_segment  history  mens  womens   zip_code  newbie  \\\n",
      "63990        6    1) $0 - $100    80.02     0       1  Surburban       0   \n",
      "63991        1  3) $200 - $350   306.10     1       0  Surburban       1   \n",
      "63992        1  5) $500 - $750   519.69     1       1      Urban       1   \n",
      "63993        4  4) $350 - $500   374.07     0       1  Surburban       0   \n",
      "63994        7    1) $0 - $100    86.46     0       1      Urban       0   \n",
      "63995       10  2) $100 - $200   105.54     1       0      Urban       0   \n",
      "63996        5    1) $0 - $100    38.91     0       1      Urban       1   \n",
      "63997        6    1) $0 - $100    29.99     1       0      Urban       1   \n",
      "63998        1  5) $500 - $750   552.94     1       0  Surburban       1   \n",
      "63999        1  4) $350 - $500   472.82     0       1  Surburban       0   \n",
      "\n",
      "            channel        segment  visit  conversion  spend  DM_category  \n",
      "63990         Phone      No E-Mail      0           0    0.0            5  \n",
      "63991         Phone  Womens E-Mail      0           0    0.0            4  \n",
      "63992         Phone    Mens E-Mail      0           0    0.0            5  \n",
      "63993         Phone  Womens E-Mail      0           0    0.0            1  \n",
      "63994           Web    Mens E-Mail      0           0    0.0            3  \n",
      "63995           Web    Mens E-Mail      0           0    0.0            2  \n",
      "63996         Phone    Mens E-Mail      0           0    0.0            3  \n",
      "63997         Phone    Mens E-Mail      0           0    0.0            2  \n",
      "63998  Multichannel  Womens E-Mail      0           0    0.0            4  \n",
      "63999           Web    Mens E-Mail      0           0    0.0            3  \n"
     ]
    }
   ],
   "source": [
    "print(data.tail(10))"
   ]
  },
  {
   "cell_type": "code",
   "execution_count": 7,
   "metadata": {},
   "outputs": [
    {
     "name": "stdout",
     "output_type": "stream",
     "text": [
      "       recency history_segment  history  mens  womens   zip_code  newbie  \\\n",
      "63995       10  2) $100 - $200   105.54     1       0      Urban       0   \n",
      "63996        5    1) $0 - $100    38.91     0       1      Urban       1   \n",
      "63997        6    1) $0 - $100    29.99     1       0      Urban       1   \n",
      "63998        1  5) $500 - $750   552.94     1       0  Surburban       1   \n",
      "63999        1  4) $350 - $500   472.82     0       1  Surburban       0   \n",
      "\n",
      "            channel        segment  visit  conversion  spend  DM_category  \n",
      "63995           Web    Mens E-Mail      0           0    0.0            2  \n",
      "63996         Phone    Mens E-Mail      0           0    0.0            3  \n",
      "63997         Phone    Mens E-Mail      0           0    0.0            2  \n",
      "63998  Multichannel  Womens E-Mail      0           0    0.0            4  \n",
      "63999           Web    Mens E-Mail      0           0    0.0            3  \n"
     ]
    }
   ],
   "source": [
    "print(data.tail())"
   ]
  },
  {
   "cell_type": "code",
   "execution_count": 9,
   "metadata": {},
   "outputs": [
    {
     "name": "stdout",
     "output_type": "stream",
     "text": [
      "0        Surburban\n",
      "1            Rural\n",
      "2        Surburban\n",
      "3            Rural\n",
      "4            Urban\n",
      "           ...    \n",
      "63995        Urban\n",
      "63996        Urban\n",
      "63997        Urban\n",
      "63998    Surburban\n",
      "63999    Surburban\n",
      "Name: zip_code, Length: 64000, dtype: object\n"
     ]
    }
   ],
   "source": [
    "print(data['zip_code'])"
   ]
  },
  {
   "cell_type": "code",
   "execution_count": 10,
   "metadata": {},
   "outputs": [
    {
     "name": "stdout",
     "output_type": "stream",
     "text": [
      "Index(['recency', 'history_segment', 'history', 'mens', 'womens', 'zip_code',\n",
      "       'newbie', 'channel', 'segment', 'visit', 'conversion', 'spend',\n",
      "       'DM_category'],\n",
      "      dtype='object')\n"
     ]
    }
   ],
   "source": [
    "print(data.columns)"
   ]
  },
  {
   "cell_type": "code",
   "execution_count": 11,
   "metadata": {},
   "outputs": [
    {
     "name": "stdout",
     "output_type": "stream",
     "text": [
      "    history  mens  womens   zip_code\n",
      "50   203.30     0       1  Surburban\n",
      "51   185.43     1       0      Urban\n",
      "52    29.99     0       1      Urban\n",
      "53    78.62     1       0      Urban\n",
      "54   150.06     0       1  Surburban\n"
     ]
    }
   ],
   "source": [
    "x = data.iloc[50:55,2:6]\n",
    "print(x)"
   ]
  },
  {
   "cell_type": "code",
   "execution_count": 13,
   "metadata": {},
   "outputs": [
    {
     "name": "stdout",
     "output_type": "stream",
     "text": [
      "       recency history_segment  history  mens  womens zip_code  newbie  \\\n",
      "4            2    1) $0 - $100    45.34     1       0    Urban       0   \n",
      "7            9    1) $0 - $100    46.42     0       1    Urban       0   \n",
      "9           10    1) $0 - $100    32.84     0       1    Urban       1   \n",
      "10           7  5) $500 - $750   548.91     0       1    Urban       1   \n",
      "11           1  3) $200 - $350   211.45     0       1    Urban       1   \n",
      "...        ...             ...      ...   ...     ...      ...     ...   \n",
      "63992        1  5) $500 - $750   519.69     1       1    Urban       1   \n",
      "63994        7    1) $0 - $100    86.46     0       1    Urban       0   \n",
      "63995       10  2) $100 - $200   105.54     1       0    Urban       0   \n",
      "63996        5    1) $0 - $100    38.91     0       1    Urban       1   \n",
      "63997        6    1) $0 - $100    29.99     1       0    Urban       1   \n",
      "\n",
      "      channel        segment  visit  conversion  spend  DM_category  \n",
      "4         Web  Womens E-Mail      0           0    0.0            4  \n",
      "7       Phone  Womens E-Mail      0           0    0.0            1  \n",
      "9         Web  Womens E-Mail      0           0    0.0            1  \n",
      "10      Phone  Womens E-Mail      1           0    0.0            1  \n",
      "11      Phone  Womens E-Mail      0           0    0.0            1  \n",
      "...       ...            ...    ...         ...    ...          ...  \n",
      "63992   Phone    Mens E-Mail      0           0    0.0            5  \n",
      "63994     Web    Mens E-Mail      0           0    0.0            3  \n",
      "63995     Web    Mens E-Mail      0           0    0.0            2  \n",
      "63996   Phone    Mens E-Mail      0           0    0.0            3  \n",
      "63997   Phone    Mens E-Mail      0           0    0.0            2  \n",
      "\n",
      "[25661 rows x 13 columns]\n"
     ]
    }
   ],
   "source": [
    "print(data[data['zip_code']=='Urban'])"
   ]
  },
  {
   "cell_type": "code",
   "execution_count": 19,
   "metadata": {},
   "outputs": [
    {
     "name": "stdout",
     "output_type": "stream",
     "text": [
      "       recency history_segment  history  mens  womens zip_code  newbie  \\\n",
      "4            2    1) $0 - $100    45.34     1       0    Urban       0   \n",
      "7            9    1) $0 - $100    46.42     0       1    Urban       0   \n",
      "9           10    1) $0 - $100    32.84     0       1    Urban       1   \n",
      "10           7  5) $500 - $750   548.91     0       1    Urban       1   \n",
      "11           1  3) $200 - $350   211.45     0       1    Urban       1   \n",
      "...        ...             ...      ...   ...     ...      ...     ...   \n",
      "63992        1  5) $500 - $750   519.69     1       1    Urban       1   \n",
      "63994        7    1) $0 - $100    86.46     0       1    Urban       0   \n",
      "63995       10  2) $100 - $200   105.54     1       0    Urban       0   \n",
      "63996        5    1) $0 - $100    38.91     0       1    Urban       1   \n",
      "63997        6    1) $0 - $100    29.99     1       0    Urban       1   \n",
      "\n",
      "      channel        segment  visit  conversion  spend  DM_category  \n",
      "4         Web  Womens E-Mail      0           0    0.0            4  \n",
      "7       Phone  Womens E-Mail      0           0    0.0            1  \n",
      "9         Web  Womens E-Mail      0           0    0.0            1  \n",
      "10      Phone  Womens E-Mail      1           0    0.0            1  \n",
      "11      Phone  Womens E-Mail      0           0    0.0            1  \n",
      "...       ...            ...    ...         ...    ...          ...  \n",
      "63992   Phone    Mens E-Mail      0           0    0.0            5  \n",
      "63994     Web    Mens E-Mail      0           0    0.0            3  \n",
      "63995     Web    Mens E-Mail      0           0    0.0            2  \n",
      "63996   Phone    Mens E-Mail      0           0    0.0            3  \n",
      "63997   Phone    Mens E-Mail      0           0    0.0            2  \n",
      "\n",
      "[25661 rows x 13 columns]\n"
     ]
    }
   ],
   "source": [
    "import numpy as np\n",
    "x = data.loc[np.where(data['zip_code']=='Urban')[0]]\n",
    "print(x)"
   ]
  },
  {
   "cell_type": "code",
   "execution_count": 20,
   "metadata": {},
   "outputs": [
    {
     "name": "stdout",
     "output_type": "stream",
     "text": [
      "            recency       history          mens        womens        newbie  \\\n",
      "count  64000.000000  64000.000000  64000.000000  64000.000000  64000.000000   \n",
      "mean       5.763734    242.085656      0.551031      0.549719      0.502250   \n",
      "std        3.507592    256.158608      0.497393      0.497526      0.499999   \n",
      "min        1.000000     29.990000      0.000000      0.000000      0.000000   \n",
      "25%        2.000000     64.660000      0.000000      0.000000      0.000000   \n",
      "50%        6.000000    158.110000      1.000000      1.000000      1.000000   \n",
      "75%        9.000000    325.657500      1.000000      1.000000      1.000000   \n",
      "max       12.000000   3345.930000      1.000000      1.000000      1.000000   \n",
      "\n",
      "              visit    conversion         spend   DM_category  \n",
      "count  64000.000000  64000.000000  64000.000000  64000.000000  \n",
      "mean       0.146781      0.009031      1.050908      3.851750  \n",
      "std        0.353890      0.094604     15.036448      2.131944  \n",
      "min        0.000000      0.000000      0.000000      1.000000  \n",
      "25%        0.000000      0.000000      0.000000      2.000000  \n",
      "50%        0.000000      0.000000      0.000000      4.000000  \n",
      "75%        0.000000      0.000000      0.000000      5.000000  \n",
      "max        1.000000      1.000000    499.000000     11.000000  \n"
     ]
    }
   ],
   "source": [
    "print(data.describe())"
   ]
  },
  {
   "cell_type": "code",
   "execution_count": 21,
   "metadata": {},
   "outputs": [
    {
     "name": "stdout",
     "output_type": "stream",
     "text": [
      "['Surburban' 'Rural' 'Urban']\n"
     ]
    }
   ],
   "source": [
    "print(data['zip_code'].unique())"
   ]
  },
  {
   "cell_type": "code",
   "execution_count": 24,
   "metadata": {},
   "outputs": [
    {
     "data": {
      "text/plain": [
       "[<matplotlib.lines.Line2D at 0x27f704a1a88>]"
      ]
     },
     "execution_count": 24,
     "metadata": {},
     "output_type": "execute_result"
    },
    {
     "data": {
      "image/png": "[encoded data removed]",
      "text/plain": [
       "<Figure size 432x288 with 1 Axes>"
      ]
     },
     "metadata": {
      "needs_background": "light"
     },
     "output_type": "display_data"
    }
   ],
   "source": [
    "import matplotlib.pyplot as plt\n",
    "plt.plot(data['history'])"
   ]
  },
  {
   "cell_type": "code",
   "execution_count": null,
   "metadata": {},
   "outputs": [],
   "source": []
  }
 ],
 "metadata": {
  "kernelspec": {
   "display_name": "Python 3",
   "language": "python",
   "name": "python3"
  },
  "language_info": {
   "codemirror_mode": {
    "name": "ipython",
    "version": 3
   },
   "file_extension": ".py",
   "mimetype": "text/x-python",
   "name": "python",
   "nbconvert_exporter": "python",
   "pygments_lexer": "ipython3",
   "version": "3.7.6"
  }
 },
 "nbformat": 4,
 "nbformat_minor": 4
}
